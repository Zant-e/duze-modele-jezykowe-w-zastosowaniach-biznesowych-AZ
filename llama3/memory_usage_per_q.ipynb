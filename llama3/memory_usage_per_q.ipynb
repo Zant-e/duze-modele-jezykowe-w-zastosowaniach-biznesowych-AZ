{
 "cells": [
  {
   "cell_type": "code",
   "execution_count": 1,
   "metadata": {},
   "outputs": [],
   "source": [
    "from typing import List, Optional, TypedDict\n",
    "import json\n",
    "from llama import Dialog, Llama\n",
    "from llama.tokenizer import Message\n",
    "import torch\n",
    "import gc"
   ]
  },
  {
   "cell_type": "code",
   "execution_count": 2,
   "metadata": {},
   "outputs": [],
   "source": [
    "quant_types = [\"\", \"8bit\", \"fp4\", \"nf4\"]"
   ]
  },
  {
   "cell_type": "code",
   "execution_count": 3,
   "metadata": {},
   "outputs": [
    {
     "name": "stdout",
     "output_type": "stream",
     "text": [
      "Loaded in 37.97 seconds\n",
      "quant: \n",
      "Memory Allocated: 17364.51 MB\n",
      "Memory Reserved: 17494.00 MB\n",
      "Loaded in 35.79 seconds\n",
      "quant: 8bit\n",
      "Memory Allocated: 10713.76 MB\n",
      "Memory Reserved: 13050.00 MB\n",
      "Loaded in 40.26 seconds\n",
      "quant: fp4\n",
      "Memory Allocated: 7486.35 MB\n",
      "Memory Reserved: 16440.00 MB\n",
      "Loaded in 38.00 seconds\n",
      "quant: nf4\n",
      "Memory Allocated: 7593.20 MB\n",
      "Memory Reserved: 9890.00 MB\n"
     ]
    }
   ],
   "source": [
    "for quant in quant_types:\n",
    "\n",
    "    generator = Llama.build(\n",
    "        instruct_model=True,\n",
    "        max_seq_len=8192,\n",
    "        quant_type=quant,\n",
    "    )\n",
    "\n",
    "    model = generator.model\n",
    "\n",
    "    print(f\"quant: {quant}\")\n",
    "    memory_allocated = torch.cuda.memory_allocated()\n",
    "    memory_reserved = torch.cuda.memory_reserved()\n",
    "\n",
    "    print(f\"Memory Allocated: {memory_allocated / 1024**2:.2f} MB\")\n",
    "    print(f\"Memory Reserved: {memory_reserved / 1024**2:.2f} MB\")\n",
    "\n",
    "    generator.model.cpu()\n",
    "    del (\n",
    "        generator.model,\n",
    "        generator.tokenizer,\n",
    "        generator,\n",
    "    )\n",
    "    gc.collect()\n",
    "    torch.cuda.empty_cache()\n",
    "    gc.collect()"
   ]
  },
  {
   "cell_type": "code",
   "execution_count": null,
   "metadata": {},
   "outputs": [],
   "source": []
  }
 ],
 "metadata": {
  "kernelspec": {
   "display_name": "Python 3",
   "language": "python",
   "name": "python3"
  },
  "language_info": {
   "codemirror_mode": {
    "name": "ipython",
    "version": 3
   },
   "file_extension": ".py",
   "mimetype": "text/x-python",
   "name": "python",
   "nbconvert_exporter": "python",
   "pygments_lexer": "ipython3",
   "version": "3.10.12"
  }
 },
 "nbformat": 4,
 "nbformat_minor": 2
}
